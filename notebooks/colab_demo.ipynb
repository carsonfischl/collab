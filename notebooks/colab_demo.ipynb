{
  "cells": [
    {
      "cell_type": "markdown",
      "metadata": {
        "id": "view-in-github",
        "colab_type": "text"
      },
      "source": [
        "<a href=\"https://colab.research.google.com/github/carsonfischl/collab/blob/main/notebooks/colab_demo.ipynb\" target=\"_parent\"><img src=\"https://colab.research.google.com/assets/colab-badge.svg\" alt=\"Open In Colab\"/></a>"
      ]
    },
    {
      "cell_type": "markdown",
      "metadata": {
        "id": "rOTJFaF9WIqg"
      },
      "source": [
        "# Deepfake Offensive Toolkit\n",
        "\n",
        "> **Disclaimer**: This notebook is primarily used for demo purposes on Google Colab.\n",
        "\n",
        "**Note**: We recommend running this notebook on Google Colab with GPU enabled.\n",
        "\n",
        "To enable GPU, do the following:\n",
        "\n",
        "`Click \"Runtime\" tab > select \"Change runtime type\" option > set \"Hardware accelerator\" to \"GPU\"`\n",
        "\n",
        "### Install Notebook Pre-requisites:\n",
        "\n",
        "We install the following pre-requisities:\n",
        "- `ffmpeg`\n",
        "- `conda` (via [condacolab](https://github.com/conda-incubator/condacolab))\n",
        "\n",
        "Note: The notebook session will restart after installing the pre-requisites.\n",
        "\n",
        "**RUN THE BELOW CELL ONLY ONCE.**\n",
        "\n",
        "**ONCE THE NOTEBOOK SESSION RESTARTS, SKIP THIS CELL MOVE TO \"STEP 1\" SECTION OF THIS NOTEBOOK**"
      ]
    },
    {
      "cell_type": "code",
      "execution_count": 1,
      "metadata": {
        "id": "GnL7GZXGWIqo",
        "outputId": "bc1b0182-8b18-46cc-9f38-e694782c7117",
        "colab": {
          "base_uri": "https://localhost:8080/"
        }
      },
      "outputs": [
        {
          "output_type": "stream",
          "name": "stdout",
          "text": [
            "Reading package lists... Done\n",
            "Building dependency tree... Done\n",
            "Reading state information... Done\n",
            "ffmpeg is already the newest version (7:4.4.2-0ubuntu0.22.04.1).\n",
            "0 upgraded, 0 newly installed, 0 to remove and 49 not upgraded.\n",
            "⏬ Downloading https://repo.anaconda.com/miniconda/Miniconda3-py310_23.11.0-2-Linux-x86_64.sh...\n",
            "📦 Installing...\n",
            "📌 Adjusting configuration...\n",
            "🩹 Patching environment...\n",
            "⏲ Done in 0:00:25\n",
            "🔁 Restarting kernel...\n"
          ]
        }
      ],
      "source": [
        "# install linux pre-requisites\n",
        "!sudo apt install ffmpeg\n",
        "\n",
        "# install miniconda3\n",
        "!pip install -q condacolab\n",
        "import condacolab\n",
        "condacolab.install_miniconda()\n"
      ]
    },
    {
      "cell_type": "markdown",
      "metadata": {
        "id": "9oI_egyVWIqq"
      },
      "source": [
        "## Step 1 - Clone Repository"
      ]
    },
    {
      "cell_type": "code",
      "execution_count": 1,
      "metadata": {
        "id": "LvZL-BD0WIqq"
      },
      "outputs": [],
      "source": [
        "import os\n",
        "os.chdir('/content')\n",
        "CODE_DIR = 'dot'\n"
      ]
    },
    {
      "cell_type": "code",
      "execution_count": 2,
      "metadata": {
        "id": "gTnnBM5xWIqr",
        "outputId": "ee0550f2-b813-4cba-bf31-77a3a6ef7e44",
        "colab": {
          "base_uri": "https://localhost:8080/"
        }
      },
      "outputs": [
        {
          "output_type": "stream",
          "name": "stdout",
          "text": [
            "/bin/bash: /usr/local/lib/libtinfo.so.6: no version information available (required by /bin/bash)\n",
            "Cloning into 'dot'...\n",
            "remote: Enumerating objects: 724, done.\u001b[K\n",
            "remote: Counting objects: 100% (304/304), done.\u001b[K\n",
            "remote: Compressing objects: 100% (195/195), done.\u001b[K\n",
            "remote: Total 724 (delta 216), reused 135 (delta 105), pack-reused 420 (from 1)\u001b[K\n",
            "Receiving objects: 100% (724/724), 16.69 MiB | 17.37 MiB/s, done.\n",
            "Resolving deltas: 100% (359/359), done.\n"
          ]
        }
      ],
      "source": [
        "!git clone https://github.com/sensity-ai/dot.git $CODE_DIR\n"
      ]
    },
    {
      "cell_type": "code",
      "execution_count": 3,
      "metadata": {
        "id": "Hgx6JdrrWIqr"
      },
      "outputs": [],
      "source": [
        "os.chdir(f'./{CODE_DIR}')\n"
      ]
    },
    {
      "cell_type": "markdown",
      "metadata": {
        "id": "Nb3q4HbSWIqs"
      },
      "source": [
        "## Step 2 - Setup Conda Environment\n",
        "\n",
        "**ONCE THE INSTALLATION IS COMPLETE, RESTART THE NOTEBOOK AND MOVE TO \"STEP 2\" SECTION OF THIS NOTEBOOK**"
      ]
    },
    {
      "cell_type": "code",
      "execution_count": 5,
      "metadata": {
        "id": "VkLiUqtbWIqt",
        "outputId": "f6a7d580-4005-4633-fbbb-a829d687a98e",
        "colab": {
          "base_uri": "https://localhost:8080/"
        }
      },
      "outputs": [
        {
          "output_type": "stream",
          "name": "stdout",
          "text": [
            "Warning: 'defaults' already in 'channels' list, moving to the top\n",
            "Channels:\n",
            " - conda-forge\n",
            " - defaults\n",
            "Platform: linux-64\n",
            "Collecting package metadata (repodata.json): - \b\b\\ \b\b| \b\b/ \b\b- \b\b\\ \b\b| \b\b/ \b\b- \b\bdone\n",
            "Solving environment: | \b\b/ \b\b- \b\bdone\n",
            "\n",
            "# All requested packages already installed.\n",
            "\n",
            "Channels:\n",
            " - defaults\n",
            " - conda-forge\n",
            "Platform: linux-64\n",
            "Collecting package metadata (repodata.json): - \b\b\\ \b\b| \b\b/ \b\b- \b\b\\ \b\b| \b\b/ \b\b- \b\b\\ \b\b| \b\bdone\n",
            "Solving environment: - \b\bfailed\n",
            "\n",
            "SpecsConfigurationConflictError: Requested specs conflict with configured specs.\n",
            "  requested specs: \n",
            "    - cudatoolkit=11.8\n",
            "    - python=3.8\n",
            "  pinned specs: \n",
            "    - cuda-version=12\n",
            "    - python=3.10\n",
            "    - python_abi=3.10[build=*cp310*]\n",
            "Use 'conda config --show-sources' to look for 'pinned_specs' and 'track_features'\n",
            "configuration parameters.  Pinned specs may also be defined in the file\n",
            "/usr/local/conda-meta/pinned.\n",
            "\n",
            "\n",
            "Collecting llvmlite==0.38.1\n",
            "  Using cached llvmlite-0.38.1-cp310-cp310-manylinux_2_17_x86_64.manylinux2014_x86_64.whl.metadata (4.7 kB)\n",
            "\u001b[31mERROR: Ignored the following versions that require a different python version: 0.36.0 Requires-Python >=3.6,<3.10; 0.37.0 Requires-Python >=3.7,<3.10\u001b[0m\u001b[31m\n",
            "\u001b[0m\u001b[31mERROR: Could not find a version that satisfies the requirement onnxruntime-gpu==1.9.0 (from versions: 1.12.0, 1.12.1, 1.13.1, 1.14.0, 1.14.1, 1.15.0, 1.15.1, 1.16.0, 1.16.1, 1.16.2, 1.16.3, 1.17.0, 1.17.1, 1.18.0, 1.18.1, 1.19.0, 1.19.2, 1.20.0, 1.20.1)\u001b[0m\u001b[31m\n",
            "\u001b[0m\u001b[31mERROR: No matching distribution found for onnxruntime-gpu==1.9.0\u001b[0m\u001b[31m\n",
            "\u001b[0mLooking in indexes: https://download.pytorch.org/whl/cu118\n",
            "Requirement already satisfied: torch==2.0.1+cu118 in /usr/local/lib/python3.10/site-packages (2.0.1+cu118)\n",
            "Requirement already satisfied: torchvision==0.15.2+cu118 in /usr/local/lib/python3.10/site-packages (0.15.2+cu118)\n",
            "Requirement already satisfied: torchaudio==2.0.2 in /usr/local/lib/python3.10/site-packages (2.0.2+cu118)\n",
            "Requirement already satisfied: filelock in /usr/local/lib/python3.10/site-packages (from torch==2.0.1+cu118) (3.13.1)\n",
            "Requirement already satisfied: typing-extensions in /usr/local/lib/python3.10/site-packages (from torch==2.0.1+cu118) (4.9.0)\n",
            "Requirement already satisfied: sympy in /usr/local/lib/python3.10/site-packages (from torch==2.0.1+cu118) (1.13.1)\n",
            "Requirement already satisfied: networkx in /usr/local/lib/python3.10/site-packages (from torch==2.0.1+cu118) (3.2.1)\n",
            "Requirement already satisfied: jinja2 in /usr/local/lib/python3.10/site-packages (from torch==2.0.1+cu118) (3.1.3)\n",
            "Requirement already satisfied: triton==2.0.0 in /usr/local/lib/python3.10/site-packages (from torch==2.0.1+cu118) (2.0.0)\n",
            "Requirement already satisfied: numpy in /usr/local/lib/python3.10/site-packages (from torchvision==0.15.2+cu118) (1.26.3)\n",
            "Requirement already satisfied: requests in /usr/local/lib/python3.10/site-packages (from torchvision==0.15.2+cu118) (2.31.0)\n",
            "Requirement already satisfied: pillow!=8.3.*,>=5.3.0 in /usr/local/lib/python3.10/site-packages (from torchvision==0.15.2+cu118) (10.2.0)\n",
            "Requirement already satisfied: cmake in /usr/local/lib/python3.10/site-packages (from triton==2.0.0->torch==2.0.1+cu118) (3.25.0)\n",
            "Requirement already satisfied: lit in /usr/local/lib/python3.10/site-packages (from triton==2.0.0->torch==2.0.1+cu118) (15.0.7)\n",
            "Requirement already satisfied: MarkupSafe>=2.0 in /usr/local/lib/python3.10/site-packages (from jinja2->torch==2.0.1+cu118) (2.1.5)\n",
            "Requirement already satisfied: charset-normalizer<4,>=2 in /usr/local/lib/python3.10/site-packages (from requests->torchvision==0.15.2+cu118) (2.0.4)\n",
            "Requirement already satisfied: idna<4,>=2.5 in /usr/local/lib/python3.10/site-packages (from requests->torchvision==0.15.2+cu118) (3.4)\n",
            "Requirement already satisfied: urllib3<3,>=1.21.1 in /usr/local/lib/python3.10/site-packages (from requests->torchvision==0.15.2+cu118) (1.26.18)\n",
            "Requirement already satisfied: certifi>=2017.4.17 in /usr/local/lib/python3.10/site-packages (from requests->torchvision==0.15.2+cu118) (2024.12.14)\n",
            "Requirement already satisfied: mpmath<1.4,>=1.1.0 in /usr/local/lib/python3.10/site-packages (from sympy->torch==2.0.1+cu118) (1.3.0)\n",
            "\u001b[31mERROR: Could not open requirements file: [Errno 2] No such file or directory: 'requirements.txt'\u001b[0m\u001b[31m\n",
            "\u001b[0m"
          ]
        }
      ],
      "source": [
        "# update base conda environment: install python=3.8 + cudatoolkit=11.8\n",
        "!conda config --add channels defaults\n",
        "!conda install -c conda-forge ncurses\n",
        "!conda install python=3.10 cudatoolkit=11.8\n",
        "\n",
        "# # install pip requirements\n",
        "!pip install llvmlite==0.38.1 onnxruntime-gpu==1.9.0\n",
        "!pip install torch==2.0.1+cu118 torchvision==0.15.2+cu118 torchaudio==2.0.2 --index-url https://download.pytorch.org/whl/cu118\n",
        "!pip install -r requirements.txt\n",
        "\n",
        "# # install dot\n",
        "!pip install -e .\n"
      ]
    },
    {
      "cell_type": "markdown",
      "metadata": {
        "id": "cuCaEkOiWIqy"
      },
      "source": [
        "## Step 2 - Download Pretrained models"
      ]
    },
    {
      "cell_type": "code",
      "execution_count": 3,
      "metadata": {
        "id": "RVQqmGmsWIqy",
        "outputId": "7cf194db-c44a-4b7d-c9ba-4f7876c5f095",
        "colab": {
          "base_uri": "https://localhost:8080/"
        }
      },
      "outputs": [
        {
          "output_type": "stream",
          "name": "stdout",
          "text": [
            "/content/dot\n",
            "/bin/bash: /usr/local/lib/libtinfo.so.6: no version information available (required by /bin/bash)\n",
            "/bin/bash: /usr/local/lib/libtinfo.so.6: no version information available (required by /bin/bash)\n",
            "Downloading...\n",
            "From (original): https://drive.google.com/uc?id=1Qaf9hE62XSvgmxR43dfiwEPWWS_dXSCE\n",
            "From (redirected): https://drive.google.com/uc?id=1Qaf9hE62XSvgmxR43dfiwEPWWS_dXSCE&confirm=t&uuid=19deff94-8eea-4252-859b-91894ae836c5\n",
            "To: /content/dot/dot_model_checkpoints.zip\n",
            "100% 2.36G/2.36G [00:24<00:00, 97.6MB/s]\n",
            "/bin/bash: /usr/local/lib/libtinfo.so.6: no version information available (required by /bin/bash)\n",
            "Archive:  dot_model_checkpoints.zip\n",
            "   creating: saved_models/faceswap_cv/\n",
            "  inflating: saved_models/faceswap_cv/shape_predictor_68_face_landmarks.dat  \n",
            "   creating: saved_models/fomm/\n",
            "  inflating: saved_models/fomm/vox-adv-cpk.pth.tar  \n",
            "   creating: saved_models/gpen/\n",
            "   creating: saved_models/gpen/weights/\n",
            "  inflating: saved_models/gpen/weights/GPEN-BFR-256.pth  \n",
            "  inflating: saved_models/gpen/weights/GPEN-BFR-512.pth  \n",
            "  inflating: saved_models/gpen/weights/GPEN-Inpainting-1024.pth  \n",
            "  inflating: saved_models/gpen/weights/RetinaFace-R50.pth  \n",
            "   creating: saved_models/simswap/\n",
            "   creating: saved_models/simswap/arcface_model/\n",
            "  inflating: saved_models/simswap/arcface_model/arcface_checkpoint.tar  \n",
            "   creating: saved_models/simswap/checkpoints/\n",
            "   creating: saved_models/simswap/checkpoints/512/\n",
            "  inflating: saved_models/simswap/checkpoints/512/550000_net_G.pth  \n",
            "   creating: saved_models/simswap/checkpoints/people/\n",
            "  inflating: saved_models/simswap/checkpoints/people/550000_net_G.pth  \n",
            " extracting: saved_models/simswap/checkpoints/people/iter.txt  \n",
            "  inflating: saved_models/simswap/checkpoints/people/latest_net_D1.pth  \n",
            "  inflating: saved_models/simswap/checkpoints/people/latest_net_D2.pth  \n",
            "  inflating: saved_models/simswap/checkpoints/people/latest_net_G.pth  \n",
            "  inflating: saved_models/simswap/checkpoints/people/loss_log.txt  \n",
            "  inflating: saved_models/simswap/checkpoints/people/opt.txt  \n",
            "   creating: saved_models/simswap/insightface_func/\n",
            "   creating: saved_models/simswap/insightface_func/models/\n",
            "   creating: saved_models/simswap/insightface_func/models/antelope/\n",
            "  inflating: saved_models/simswap/insightface_func/models/antelope/glintr100.onnx  \n",
            "  inflating: saved_models/simswap/insightface_func/models/antelope/scrfd_10g_bnkps.onnx  \n",
            "   creating: saved_models/simswap/parsing_model/\n",
            "  inflating: saved_models/simswap/parsing_model/BIS18.pt  \n",
            "   creating: saved_models/simswap/parsing_model/checkpoint/\n",
            "  inflating: saved_models/simswap/parsing_model/checkpoint/79999_iter.pth  \n",
            "/bin/bash: /usr/local/lib/libtinfo.so.6: no version information available (required by /bin/bash)\n"
          ]
        }
      ],
      "source": [
        "%cd /content/dot\n",
        "\n",
        "# download binaries\n",
        "!gdown 1Qaf9hE62XSvgmxR43dfiwEPWWS_dXSCE\n",
        "\n",
        "# unzip binaries\n",
        "!unzip dot_model_checkpoints.zip\n",
        "\n",
        "# clean-up\n",
        "!rm -rf *.z*\n"
      ]
    },
    {
      "cell_type": "markdown",
      "metadata": {
        "id": "IEYtimAjWIqz"
      },
      "source": [
        "## Step 3: Run dot on image and video files instead of camera feed\n",
        "\n",
        "### Using SimSwap on Images\n"
      ]
    },
    {
      "cell_type": "code",
      "execution_count": 4,
      "metadata": {
        "id": "cA0H6ynvWIq0",
        "outputId": "1f25c25a-4617-459d-f955-ff9e69d3836b",
        "colab": {
          "base_uri": "https://localhost:8080/"
        }
      },
      "outputs": [
        {
          "output_type": "stream",
          "name": "stdout",
          "text": [
            "/bin/bash: /usr/local/lib/libtinfo.so.6: no version information available (required by /bin/bash)\n"
          ]
        }
      ],
      "source": [
        "!dot \\\n",
        "-c ./configs/simswap.yaml \\\n",
        "--target \"data/\" \\\n",
        "--source \"data/\" \\\n",
        "--save_folder \"image_simswap_output/\" \\\n",
        "--use_image \\\n",
        "--use_gpu\n"
      ]
    },
    {
      "cell_type": "markdown",
      "metadata": {
        "id": "MKbRDeSAWIq0"
      },
      "source": [
        "### Using SimSwap on Videos"
      ]
    },
    {
      "cell_type": "code",
      "execution_count": null,
      "metadata": {
        "id": "rJqqmy2vD8uf"
      },
      "outputs": [],
      "source": [
        "!dot \\\n",
        "-c ./configs/simswap.yaml \\\n",
        "--source \"data/\" \\\n",
        "--target \"data/\" \\\n",
        "--save_folder \"video_simswap_output/\" \\\n",
        "--limit 1 \\\n",
        "--use_video \\\n",
        "--use_gpu"
      ]
    },
    {
      "cell_type": "code",
      "execution_count": null,
      "metadata": {
        "id": "oBJOJ2NWWIq1"
      },
      "outputs": [],
      "source": [
        "!python scripts/video_swap.py \\\n",
        "-s \"data/\" \\\n",
        "-t \"data/\" \\\n",
        "-o \"video_simswap_output/\" \\\n",
        "-d 5 \\\n",
        "-l 1\n"
      ]
    }
  ],
  "metadata": {
    "accelerator": "GPU",
    "colab": {
      "provenance": [],
      "gpuType": "T4",
      "include_colab_link": true
    },
    "kernelspec": {
      "display_name": "Python 3",
      "name": "python3"
    },
    "language_info": {
      "codemirror_mode": {
        "name": "ipython",
        "version": 3
      },
      "file_extension": ".py",
      "mimetype": "text/x-python",
      "name": "python",
      "nbconvert_exporter": "python",
      "pygments_lexer": "ipython3"
    }
  },
  "nbformat": 4,
  "nbformat_minor": 0
}